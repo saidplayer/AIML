{
 "cells": [
  {
   "cell_type": "markdown",
   "id": "bac3ac08",
   "metadata": {},
   "source": [
    "## NLTK"
   ]
  },
  {
   "cell_type": "code",
   "execution_count": null,
   "id": "95249c4f",
   "metadata": {},
   "outputs": [],
   "source": [
    "!pip install nltk\n",
    "!pip install spacy\n",
    "!pip install transformers"
   ]
  },
  {
   "cell_type": "code",
   "execution_count": 2,
   "id": "8613bc64",
   "metadata": {},
   "outputs": [
    {
     "name": "stderr",
     "output_type": "stream",
     "text": [
      "[nltk_data] Downloading package punkt_tab to\n",
      "[nltk_data]     C:\\Users\\Shahram\\AppData\\Roaming\\nltk_data...\n",
      "[nltk_data]   Unzipping tokenizers\\punkt_tab.zip.\n"
     ]
    },
    {
     "name": "stdout",
     "output_type": "stream",
     "text": [
      "['Natural', 'Language', 'Processing', 'is', 'transforming', 'AI', 'applications', '.']\n"
     ]
    }
   ],
   "source": [
    "import nltk\n",
    "nltk.download('punkt_tab')\n",
    "from nltk.tokenize import word_tokenize\n",
    "\n",
    "# Sample text\n",
    "text = \"Natural Language Processing is transforming AI applications.\"\n",
    "\n",
    "# Tokenize the text\n",
    "tokens = word_tokenize(text)\n",
    "print(tokens)"
   ]
  },
  {
   "cell_type": "code",
   "execution_count": 3,
   "id": "834ff77c",
   "metadata": {},
   "outputs": [
    {
     "name": "stderr",
     "output_type": "stream",
     "text": [
      "[nltk_data] Downloading package averaged_perceptron_tagger_eng to\n",
      "[nltk_data]     C:\\Users\\Shahram\\AppData\\Roaming\\nltk_data...\n",
      "[nltk_data]   Unzipping taggers\\averaged_perceptron_tagger_eng.zip.\n"
     ]
    },
    {
     "name": "stdout",
     "output_type": "stream",
     "text": [
      "[('Natural', 'JJ'), ('Language', 'NNP'), ('Processing', 'NNP'), ('is', 'VBZ'), ('transforming', 'VBG'), ('AI', 'NNP'), ('applications', 'NNS'), ('.', '.')]\n"
     ]
    }
   ],
   "source": [
    "nltk.download('averaged_perceptron_tagger_eng')\n",
    "# Apply POS tagging\n",
    "tagged_tokens = nltk.pos_tag(tokens)\n",
    "print(tagged_tokens)"
   ]
  },
  {
   "cell_type": "code",
   "execution_count": 9,
   "id": "790a48be",
   "metadata": {},
   "outputs": [
    {
     "name": "stdout",
     "output_type": "stream",
     "text": [
      "Serena Williams PERSON\n",
      "Wimbledon EVENT\n",
      "2016 DATE\n"
     ]
    }
   ],
   "source": [
    "import spacy\n",
    "\n",
    "# Load the pretrained model for NER\n",
    "nlp = spacy.load(\"en_core_web_sm\")\n",
    "\n",
    "# Process the text with NER\n",
    "doc = nlp(\"Serena Williams won Wimbledon in 2016, solidifying her status as one of the greatest tennis players in history.\")\n",
    "\n",
    "# Extract entities\n",
    "for ent in doc.ents:\n",
    "    print(ent.text, ent.label_)"
   ]
  },
  {
   "cell_type": "code",
   "execution_count": null,
   "id": "aa166157",
   "metadata": {},
   "outputs": [],
   "source": [
    "from transformers import pipeline\n",
    "\n",
    "# Initialize the sentiment analysis pipeline\n",
    "sentiment_analyzer = pipeline('sentiment-analysis')\n",
    "\n",
    "# Analyze the sentiment of the troubleshooting query\n",
    "result = sentiment_analyzer(text)\n",
    "print(result)"
   ]
  },
  {
   "cell_type": "markdown",
   "id": "6a8b153f",
   "metadata": {},
   "source": [
    "## Practice activity: Implementing classification models"
   ]
  },
  {
   "cell_type": "code",
   "execution_count": null,
   "id": "15ebb2c8",
   "metadata": {},
   "outputs": [],
   "source": [
    "!pip install scikit-learn\n",
    "!pip install pandas\n",
    "!pip install matplotlib seaborn"
   ]
  },
  {
   "cell_type": "code",
   "execution_count": 95,
   "id": "81c2e81e",
   "metadata": {},
   "outputs": [
    {
     "name": "stdout",
     "output_type": "stream",
     "text": [
      "   mean radius  mean texture  mean perimeter  mean area  mean smoothness  \\\n",
      "0        17.99         10.38          122.80     1001.0          0.11840   \n",
      "1        20.57         17.77          132.90     1326.0          0.08474   \n",
      "2        19.69         21.25          130.00     1203.0          0.10960   \n",
      "3        11.42         20.38           77.58      386.1          0.14250   \n",
      "4        20.29         14.34          135.10     1297.0          0.10030   \n",
      "\n",
      "   mean compactness  mean concavity  mean concave points  mean symmetry  \\\n",
      "0           0.27760          0.3001              0.14710         0.2419   \n",
      "1           0.07864          0.0869              0.07017         0.1812   \n",
      "2           0.15990          0.1974              0.12790         0.2069   \n",
      "3           0.28390          0.2414              0.10520         0.2597   \n",
      "4           0.13280          0.1980              0.10430         0.1809   \n",
      "\n",
      "   mean fractal dimension  ...  worst texture  worst perimeter  worst area  \\\n",
      "0                 0.07871  ...          17.33           184.60      2019.0   \n",
      "1                 0.05667  ...          23.41           158.80      1956.0   \n",
      "2                 0.05999  ...          25.53           152.50      1709.0   \n",
      "3                 0.09744  ...          26.50            98.87       567.7   \n",
      "4                 0.05883  ...          16.67           152.20      1575.0   \n",
      "\n",
      "   worst smoothness  worst compactness  worst concavity  worst concave points  \\\n",
      "0            0.1622             0.6656           0.7119                0.2654   \n",
      "1            0.1238             0.1866           0.2416                0.1860   \n",
      "2            0.1444             0.4245           0.4504                0.2430   \n",
      "3            0.2098             0.8663           0.6869                0.2575   \n",
      "4            0.1374             0.2050           0.4000                0.1625   \n",
      "\n",
      "   worst symmetry  worst fractal dimension  target  \n",
      "0          0.4601                  0.11890       0  \n",
      "1          0.2750                  0.08902       0  \n",
      "2          0.3613                  0.08758       0  \n",
      "3          0.6638                  0.17300       0  \n",
      "4          0.2364                  0.07678       0  \n",
      "\n",
      "[5 rows x 31 columns]\n",
      "<class 'pandas.core.frame.DataFrame'>\n",
      "RangeIndex: 569 entries, 0 to 568\n",
      "Data columns (total 31 columns):\n",
      " #   Column                   Non-Null Count  Dtype  \n",
      "---  ------                   --------------  -----  \n",
      " 0   mean radius              569 non-null    float64\n",
      " 1   mean texture             569 non-null    float64\n",
      " 2   mean perimeter           569 non-null    float64\n",
      " 3   mean area                569 non-null    float64\n",
      " 4   mean smoothness          569 non-null    float64\n",
      " 5   mean compactness         569 non-null    float64\n",
      " 6   mean concavity           569 non-null    float64\n",
      " 7   mean concave points      569 non-null    float64\n",
      " 8   mean symmetry            569 non-null    float64\n",
      " 9   mean fractal dimension   569 non-null    float64\n",
      " 10  radius error             569 non-null    float64\n",
      " 11  texture error            569 non-null    float64\n",
      " 12  perimeter error          569 non-null    float64\n",
      " 13  area error               569 non-null    float64\n",
      " 14  smoothness error         569 non-null    float64\n",
      " 15  compactness error        569 non-null    float64\n",
      " 16  concavity error          569 non-null    float64\n",
      " 17  concave points error     569 non-null    float64\n",
      " 18  symmetry error           569 non-null    float64\n",
      " 19  fractal dimension error  569 non-null    float64\n",
      " 20  worst radius             569 non-null    float64\n",
      " 21  worst texture            569 non-null    float64\n",
      " 22  worst perimeter          569 non-null    float64\n",
      " 23  worst area               569 non-null    float64\n",
      " 24  worst smoothness         569 non-null    float64\n",
      " 25  worst compactness        569 non-null    float64\n",
      " 26  worst concavity          569 non-null    float64\n",
      " 27  worst concave points     569 non-null    float64\n",
      " 28  worst symmetry           569 non-null    float64\n",
      " 29  worst fractal dimension  569 non-null    float64\n",
      " 30  target                   569 non-null    int64  \n",
      "dtypes: float64(30), int64(1)\n",
      "memory usage: 137.9 KB\n",
      "None\n"
     ]
    }
   ],
   "source": [
    "from sklearn.datasets import load_breast_cancer\n",
    "import pandas as pd\n",
    "\n",
    "# Load Breast Cancer dataset and convert to DataFrame\n",
    "data = load_breast_cancer()\n",
    "df = pd.DataFrame(data.data, columns=data.feature_names)\n",
    "df['target'] = data.target\n",
    "\n",
    "# Explore the dataset\n",
    "print(df.head())\n",
    "print(df.info())"
   ]
  },
  {
   "cell_type": "code",
   "execution_count": 68,
   "id": "9d49651c",
   "metadata": {},
   "outputs": [],
   "source": [
    "from sklearn.model_selection import train_test_split\n",
    "\n",
    "# Handle missing data (example: filling missing values with the median)\n",
    "df.fillna(df.median(), inplace=True)\n",
    "\n",
    "# Split the data into features and labels\n",
    "X = df.drop('target', axis=1)\n",
    "y = df['target']\n",
    "\n",
    "# Split into training and testing sets\n",
    "X_train, X_test, y_train, y_test = train_test_split(X, y, test_size=0.25, random_state=55)"
   ]
  },
  {
   "cell_type": "code",
   "execution_count": 69,
   "id": "853f4bef",
   "metadata": {},
   "outputs": [
    {
     "name": "stdout",
     "output_type": "stream",
     "text": [
      "Logistic Regression - Accuracy: 0.930, Precision: 0.930, Recall: 0.930, F1 Score: 0.930\n"
     ]
    },
    {
     "name": "stderr",
     "output_type": "stream",
     "text": [
      "C:\\Users\\Shahram\\AppData\\Local\\Packages\\PythonSoftwareFoundation.Python.3.13_qbz5n2kfra8p0\\LocalCache\\local-packages\\Python313\\site-packages\\sklearn\\linear_model\\_logistic.py:465: ConvergenceWarning: lbfgs failed to converge (status=1):\n",
      "STOP: TOTAL NO. OF ITERATIONS REACHED LIMIT.\n",
      "\n",
      "Increase the number of iterations (max_iter) or scale the data as shown in:\n",
      "    https://scikit-learn.org/stable/modules/preprocessing.html\n",
      "Please also refer to the documentation for alternative solver options:\n",
      "    https://scikit-learn.org/stable/modules/linear_model.html#logistic-regression\n",
      "  n_iter_i = _check_optimize_result(\n"
     ]
    }
   ],
   "source": [
    "from sklearn.linear_model import LogisticRegression\n",
    "from sklearn.metrics import accuracy_score\n",
    "\n",
    "# Train logistic regression model\n",
    "log_reg = LogisticRegression()\n",
    "log_reg.fit(X_train, y_train)\n",
    "\n",
    "# Make predictions\n",
    "y_pred = log_reg.predict(X_test)\n",
    "\n",
    "# Evaluate performance\n",
    "accuracy = accuracy_score(y_test, y_pred)\n",
    "precision = precision_score(y_test, y_pred, average='weighted')\n",
    "recall = recall_score(y_test, y_pred, average='weighted')\n",
    "f1 = f1_score(y_test, y_pred, average='weighted')\n",
    "\n",
    "print(f\"Logistic Regression - Accuracy: {precision:.3f}, Precision: {precision:.3f}, Recall: {recall:.3f}, F1 Score: {f1:.3f}\")"
   ]
  },
  {
   "cell_type": "code",
   "execution_count": 70,
   "id": "7804e60f",
   "metadata": {},
   "outputs": [
    {
     "name": "stdout",
     "output_type": "stream",
     "text": [
      "Decision Tree - Accuracy: 0.940, Precision: 0.940, Recall: 0.937, F1 Score: 0.937\n"
     ]
    }
   ],
   "source": [
    "from sklearn.tree import DecisionTreeClassifier\n",
    "\n",
    "# Train decision tree model\n",
    "tree = DecisionTreeClassifier()\n",
    "tree.fit(X_train, y_train)\n",
    "\n",
    "# Make predictions\n",
    "y_pred = tree.predict(X_test)\n",
    "\n",
    "# Evaluate performance\n",
    "accuracy = accuracy_score(y_test, y_pred)\n",
    "precision = precision_score(y_test, y_pred, average='weighted')\n",
    "recall = recall_score(y_test, y_pred, average='weighted')\n",
    "f1 = f1_score(y_test, y_pred, average='weighted')\n",
    "\n",
    "print(f\"Decision Tree - Accuracy: {precision:.3f}, Precision: {precision:.3f}, Recall: {recall:.3f}, F1 Score: {f1:.3f}\")"
   ]
  },
  {
   "cell_type": "code",
   "execution_count": 71,
   "id": "ea1f44ee",
   "metadata": {},
   "outputs": [
    {
     "name": "stdout",
     "output_type": "stream",
     "text": [
      "SVM - Accuracy: 0.931, Precision: 0.931, Recall: 0.930, F1 Score: 0.930\n"
     ]
    }
   ],
   "source": [
    "from sklearn.svm import SVC\n",
    "\n",
    "# Train SVM model\n",
    "svm = SVC()\n",
    "svm.fit(X_train, y_train)\n",
    "\n",
    "# Make predictions\n",
    "y_pred = svm.predict(X_test)\n",
    "\n",
    "# Evaluate performance\n",
    "accuracy = accuracy_score(y_test, y_pred)\n",
    "precision = precision_score(y_test, y_pred, average='weighted')\n",
    "recall = recall_score(y_test, y_pred, average='weighted')\n",
    "f1 = f1_score(y_test, y_pred, average='weighted')\n",
    "\n",
    "print(f\"SVM - Accuracy: {precision:.3f}, Precision: {precision:.3f}, Recall: {recall:.3f}, F1 Score: {f1:.3f}\")"
   ]
  },
  {
   "cell_type": "code",
   "execution_count": 73,
   "id": "af6540ec",
   "metadata": {},
   "outputs": [
    {
     "name": "stdout",
     "output_type": "stream",
     "text": [
      "Random Forest Classifier - Accuracy: 0.948, Precision: 0.948, Recall: 0.944, F1 Score: 0.944\n"
     ]
    }
   ],
   "source": [
    "from sklearn.ensemble import RandomForestClassifier\n",
    "\n",
    "rfc = RandomForestClassifier(max_depth=50, n_estimators=50)\n",
    "rfc.fit(X_train,y_train)\n",
    "\n",
    "y_pred = rfc.predict(X_test)\n",
    "# Evaluate performance\n",
    "accuracy = accuracy_score(y_test, y_pred)\n",
    "precision = precision_score(y_test, y_pred, average='weighted')\n",
    "recall = recall_score(y_test, y_pred, average='weighted')\n",
    "f1 = f1_score(y_test, y_pred, average='weighted')\n",
    "\n",
    "print(f\"Random Forest Classifier - Accuracy: {precision:.3f}, Precision: {precision:.3f}, Recall: {recall:.3f}, F1 Score: {f1:.3f}\")"
   ]
  },
  {
   "cell_type": "code",
   "execution_count": 101,
   "id": "65d38d85",
   "metadata": {},
   "outputs": [
    {
     "name": "stdout",
     "output_type": "stream",
     "text": [
      "Random Forest Classifier - Accuracy: 0.937, Precision: 0.937, Recall: 0.937, F1 Score: 0.937\n"
     ]
    }
   ],
   "source": [
    "from sklearn.neighbors import KNeighborsClassifier\n",
    "\n",
    "knn = KNeighborsClassifier()\n",
    "knn.fit(X_train,y_train)\n",
    "\n",
    "y_pred = knn.predict(X_test)\n",
    "# Evaluate performance\n",
    "accuracy = accuracy_score(y_test, y_pred)\n",
    "precision = precision_score(y_test, y_pred, average='weighted')\n",
    "recall = recall_score(y_test, y_pred, average='weighted')\n",
    "f1 = f1_score(y_test, y_pred, average='weighted')\n",
    "\n",
    "print(f\"Random Forest Classifier - Accuracy: {precision:.3f}, Precision: {precision:.3f}, Recall: {recall:.3f}, F1 Score: {f1:.3f}\")"
   ]
  },
  {
   "cell_type": "code",
   "execution_count": 106,
   "id": "75c0970b",
   "metadata": {},
   "outputs": [
    {
     "data": {
      "text/plain": [
       "array([0.92982456, 0.93859649, 0.98245614, 0.96491228, 0.97345133])"
      ]
     },
     "execution_count": 106,
     "metadata": {},
     "output_type": "execute_result"
    }
   ],
   "source": [
    "from sklearn.model_selection import cross_val_score\n",
    "cross_val_score(rfc, X, y, cv=5, scoring='accuracy')"
   ]
  },
  {
   "cell_type": "markdown",
   "id": "6f7d97bf",
   "metadata": {},
   "source": [
    "## Data validation"
   ]
  },
  {
   "cell_type": "code",
   "execution_count": 124,
   "id": "c847f44f",
   "metadata": {},
   "outputs": [],
   "source": [
    "df_with_missing = df.copy()\n",
    "df_with_missing.iloc[-1, 0] = None"
   ]
  },
  {
   "cell_type": "code",
   "execution_count": 125,
   "id": "71db6d00",
   "metadata": {},
   "outputs": [
    {
     "data": {
      "text/plain": [
       "np.True_"
      ]
     },
     "execution_count": 125,
     "metadata": {},
     "output_type": "execute_result"
    }
   ],
   "source": [
    "df_with_missing.isnull().values.any()"
   ]
  },
  {
   "cell_type": "markdown",
   "id": "3d46e37d",
   "metadata": {},
   "source": [
    "## Practice activity: Implementing the troubleshooting agent"
   ]
  },
  {
   "cell_type": "code",
   "execution_count": 158,
   "id": "e3461e5a",
   "metadata": {},
   "outputs": [
    {
     "name": "stdout",
     "output_type": "stream",
     "text": [
      "            timestamp  cpu_usage  memory_usage  network_latency    disk_io  \\\n",
      "0 2024-01-01 00:00:00  54.967142     80.990332        86.496435  55.921924   \n",
      "1 2024-01-01 01:00:00  48.617357     73.869505        97.109627  66.396150   \n",
      "2 2024-01-01 02:00:00  56.476885     60.894456        84.151602  70.863945   \n",
      "3 2024-01-01 03:00:00  65.230299     50.295948        93.840769  93.876877   \n",
      "4 2024-01-01 04:00:00  47.658466     70.473350        62.127707  80.565531   \n",
      "\n",
      "   error_rate  \n",
      "0           0  \n",
      "1           0  \n",
      "2           1  \n",
      "3           0  \n",
      "4           0  \n",
      "<class 'pandas.core.frame.DataFrame'>\n",
      "RangeIndex: 1000 entries, 0 to 999\n",
      "Data columns (total 6 columns):\n",
      " #   Column           Non-Null Count  Dtype         \n",
      "---  ------           --------------  -----         \n",
      " 0   timestamp        1000 non-null   datetime64[ns]\n",
      " 1   cpu_usage        1000 non-null   float64       \n",
      " 2   memory_usage     1000 non-null   float64       \n",
      " 3   network_latency  1000 non-null   float64       \n",
      " 4   disk_io          1000 non-null   float64       \n",
      " 5   error_rate       1000 non-null   int64         \n",
      "dtypes: datetime64[ns](1), float64(4), int64(1)\n",
      "memory usage: 47.0 KB\n",
      "None\n"
     ]
    }
   ],
   "source": [
    "import pandas as pd\n",
    "import numpy as np\n",
    "\n",
    "# Set random seed for reproducibility\n",
    "np.random.seed(42)\n",
    "\n",
    "# Generate synthetic data\n",
    "n_samples = 1000\n",
    "data = {\n",
    "    'timestamp': pd.date_range(start='2024-01-01', periods=n_samples, freq='h'),\n",
    "    'cpu_usage': np.random.normal(50, 10, n_samples),       # CPU usage in percentage\n",
    "    'memory_usage': np.random.normal(60, 15, n_samples),    # Memory usage in percentage\n",
    "    'network_latency': np.random.normal(100, 20, n_samples), # Network latency in ms\n",
    "    'disk_io': np.random.normal(75, 10, n_samples),         # Disk I/O in MB/s\n",
    "    'error_rate': np.random.choice([0, 1], n_samples, p=[0.95, 0.05])  # 5% error rate\n",
    "}\n",
    "\n",
    "# Create DataFrame\n",
    "df = pd.DataFrame(data)\n",
    "\n",
    "# Display the first few rows of the dataset\n",
    "print(df.head())\n",
    "print(df.info())"
   ]
  },
  {
   "cell_type": "code",
   "execution_count": 159,
   "id": "73ddfbc3",
   "metadata": {},
   "outputs": [
    {
     "name": "stdout",
     "output_type": "stream",
     "text": [
      "anomaly\n",
      " 1    980\n",
      "-1     20\n",
      "Name: count, dtype: int64\n"
     ]
    }
   ],
   "source": [
    "from sklearn.ensemble import IsolationForest\n",
    "\n",
    "# Implement anomaly detection using Isolation Forest\n",
    "def detect_anomalies(data):\n",
    "    model = IsolationForest(contamination=0.02, random_state=42)\n",
    "    model.fit(data)\n",
    "    anomalies = model.predict(data)\n",
    "    return anomalies\n",
    "\n",
    "# Detect anomalies in the dataset \n",
    "numeric_data = df.select_dtypes(include=[float, int]).drop([\"error_rate\"], axis=1) # Only numeric columns \n",
    "df['anomaly'] = detect_anomalies(numeric_data)\n",
    "\n",
    "print(df['anomaly'].value_counts()) # -1 denotes an anomaly"
   ]
  },
  {
   "cell_type": "code",
   "execution_count": 160,
   "id": "f470fccc",
   "metadata": {},
   "outputs": [
    {
     "data": {
      "text/plain": [
       "cpu_usage           50.193321\n",
       "memory_usage        61.062544\n",
       "network_latency    100.116684\n",
       "disk_io             74.812808\n",
       "dtype: float64"
      ]
     },
     "execution_count": 160,
     "metadata": {},
     "output_type": "execute_result"
    }
   ],
   "source": [
    "numeric_data.mean()"
   ]
  },
  {
   "cell_type": "code",
   "execution_count": 161,
   "id": "0c4c6e81",
   "metadata": {},
   "outputs": [
    {
     "data": {
      "text/html": [
       "<div>\n",
       "<style scoped>\n",
       "    .dataframe tbody tr th:only-of-type {\n",
       "        vertical-align: middle;\n",
       "    }\n",
       "\n",
       "    .dataframe tbody tr th {\n",
       "        vertical-align: top;\n",
       "    }\n",
       "\n",
       "    .dataframe thead th {\n",
       "        text-align: right;\n",
       "    }\n",
       "</style>\n",
       "<table border=\"1\" class=\"dataframe\">\n",
       "  <thead>\n",
       "    <tr style=\"text-align: right;\">\n",
       "      <th></th>\n",
       "      <th>timestamp</th>\n",
       "      <th>cpu_usage</th>\n",
       "      <th>memory_usage</th>\n",
       "      <th>network_latency</th>\n",
       "      <th>disk_io</th>\n",
       "      <th>error_rate</th>\n",
       "      <th>anomaly</th>\n",
       "    </tr>\n",
       "  </thead>\n",
       "  <tbody>\n",
       "    <tr>\n",
       "      <th>17</th>\n",
       "      <td>2024-01-01 17:00:00</td>\n",
       "      <td>53.142473</td>\n",
       "      <td>52.741712</td>\n",
       "      <td>59.922753</td>\n",
       "      <td>46.678444</td>\n",
       "      <td>0</td>\n",
       "      <td>-1</td>\n",
       "    </tr>\n",
       "    <tr>\n",
       "      <th>24</th>\n",
       "      <td>2024-01-02 00:00:00</td>\n",
       "      <td>44.556173</td>\n",
       "      <td>85.913148</td>\n",
       "      <td>39.609757</td>\n",
       "      <td>56.302583</td>\n",
       "      <td>0</td>\n",
       "      <td>-1</td>\n",
       "    </tr>\n",
       "    <tr>\n",
       "      <th>66</th>\n",
       "      <td>2024-01-03 18:00:00</td>\n",
       "      <td>49.279899</td>\n",
       "      <td>40.579778</td>\n",
       "      <td>51.223657</td>\n",
       "      <td>92.549331</td>\n",
       "      <td>0</td>\n",
       "      <td>-1</td>\n",
       "    </tr>\n",
       "    <tr>\n",
       "      <th>83</th>\n",
       "      <td>2024-01-04 11:00:00</td>\n",
       "      <td>44.817298</td>\n",
       "      <td>91.151220</td>\n",
       "      <td>54.076381</td>\n",
       "      <td>63.828135</td>\n",
       "      <td>0</td>\n",
       "      <td>-1</td>\n",
       "    </tr>\n",
       "    <tr>\n",
       "      <th>209</th>\n",
       "      <td>2024-01-09 17:00:00</td>\n",
       "      <td>88.527315</td>\n",
       "      <td>86.243651</td>\n",
       "      <td>99.985828</td>\n",
       "      <td>79.512253</td>\n",
       "      <td>0</td>\n",
       "      <td>-1</td>\n",
       "    </tr>\n",
       "    <tr>\n",
       "      <th>262</th>\n",
       "      <td>2024-01-11 22:00:00</td>\n",
       "      <td>17.587327</td>\n",
       "      <td>68.081340</td>\n",
       "      <td>124.715644</td>\n",
       "      <td>65.953856</td>\n",
       "      <td>1</td>\n",
       "      <td>-1</td>\n",
       "    </tr>\n",
       "    <tr>\n",
       "      <th>291</th>\n",
       "      <td>2024-01-13 03:00:00</td>\n",
       "      <td>45.069991</td>\n",
       "      <td>97.394993</td>\n",
       "      <td>119.577161</td>\n",
       "      <td>50.121913</td>\n",
       "      <td>0</td>\n",
       "      <td>-1</td>\n",
       "    </tr>\n",
       "    <tr>\n",
       "      <th>305</th>\n",
       "      <td>2024-01-13 17:00:00</td>\n",
       "      <td>51.173274</td>\n",
       "      <td>46.522980</td>\n",
       "      <td>162.198371</td>\n",
       "      <td>85.613710</td>\n",
       "      <td>0</td>\n",
       "      <td>-1</td>\n",
       "    </tr>\n",
       "    <tr>\n",
       "      <th>374</th>\n",
       "      <td>2024-01-16 14:00:00</td>\n",
       "      <td>71.531825</td>\n",
       "      <td>82.067555</td>\n",
       "      <td>122.347976</td>\n",
       "      <td>58.173413</td>\n",
       "      <td>0</td>\n",
       "      <td>-1</td>\n",
       "    </tr>\n",
       "    <tr>\n",
       "      <th>471</th>\n",
       "      <td>2024-01-20 15:00:00</td>\n",
       "      <td>26.980788</td>\n",
       "      <td>50.853256</td>\n",
       "      <td>147.277450</td>\n",
       "      <td>74.191215</td>\n",
       "      <td>0</td>\n",
       "      <td>-1</td>\n",
       "    </tr>\n",
       "    <tr>\n",
       "      <th>478</th>\n",
       "      <td>2024-01-20 22:00:00</td>\n",
       "      <td>80.788808</td>\n",
       "      <td>46.687617</td>\n",
       "      <td>73.227884</td>\n",
       "      <td>86.535903</td>\n",
       "      <td>0</td>\n",
       "      <td>-1</td>\n",
       "    </tr>\n",
       "    <tr>\n",
       "      <th>521</th>\n",
       "      <td>2024-01-22 17:00:00</td>\n",
       "      <td>55.433602</td>\n",
       "      <td>68.731466</td>\n",
       "      <td>159.705180</td>\n",
       "      <td>50.067292</td>\n",
       "      <td>1</td>\n",
       "      <td>-1</td>\n",
       "    </tr>\n",
       "    <tr>\n",
       "      <th>531</th>\n",
       "      <td>2024-01-23 03:00:00</td>\n",
       "      <td>33.384799</td>\n",
       "      <td>33.473410</td>\n",
       "      <td>81.472377</td>\n",
       "      <td>93.577023</td>\n",
       "      <td>0</td>\n",
       "      <td>-1</td>\n",
       "    </tr>\n",
       "    <tr>\n",
       "      <th>544</th>\n",
       "      <td>2024-01-23 16:00:00</td>\n",
       "      <td>25.283555</td>\n",
       "      <td>50.966819</td>\n",
       "      <td>148.534330</td>\n",
       "      <td>88.764965</td>\n",
       "      <td>0</td>\n",
       "      <td>-1</td>\n",
       "    </tr>\n",
       "    <tr>\n",
       "      <th>562</th>\n",
       "      <td>2024-01-24 10:00:00</td>\n",
       "      <td>58.711247</td>\n",
       "      <td>23.636396</td>\n",
       "      <td>81.491507</td>\n",
       "      <td>53.100783</td>\n",
       "      <td>0</td>\n",
       "      <td>-1</td>\n",
       "    </tr>\n",
       "    <tr>\n",
       "      <th>729</th>\n",
       "      <td>2024-01-31 09:00:00</td>\n",
       "      <td>42.216953</td>\n",
       "      <td>87.572755</td>\n",
       "      <td>90.293883</td>\n",
       "      <td>51.838561</td>\n",
       "      <td>0</td>\n",
       "      <td>-1</td>\n",
       "    </tr>\n",
       "    <tr>\n",
       "      <th>750</th>\n",
       "      <td>2024-02-01 06:00:00</td>\n",
       "      <td>40.767668</td>\n",
       "      <td>19.451516</td>\n",
       "      <td>135.109514</td>\n",
       "      <td>69.140723</td>\n",
       "      <td>0</td>\n",
       "      <td>-1</td>\n",
       "    </tr>\n",
       "    <tr>\n",
       "      <th>755</th>\n",
       "      <td>2024-02-01 11:00:00</td>\n",
       "      <td>76.323821</td>\n",
       "      <td>80.604878</td>\n",
       "      <td>90.966810</td>\n",
       "      <td>55.310769</td>\n",
       "      <td>0</td>\n",
       "      <td>-1</td>\n",
       "    </tr>\n",
       "    <tr>\n",
       "      <th>880</th>\n",
       "      <td>2024-02-06 16:00:00</td>\n",
       "      <td>75.269324</td>\n",
       "      <td>74.472774</td>\n",
       "      <td>55.235375</td>\n",
       "      <td>78.017000</td>\n",
       "      <td>0</td>\n",
       "      <td>-1</td>\n",
       "    </tr>\n",
       "    <tr>\n",
       "      <th>982</th>\n",
       "      <td>2024-02-10 22:00:00</td>\n",
       "      <td>40.330239</td>\n",
       "      <td>50.599242</td>\n",
       "      <td>114.649842</td>\n",
       "      <td>106.520567</td>\n",
       "      <td>0</td>\n",
       "      <td>-1</td>\n",
       "    </tr>\n",
       "  </tbody>\n",
       "</table>\n",
       "</div>"
      ],
      "text/plain": [
       "              timestamp  cpu_usage  memory_usage  network_latency     disk_io  \\\n",
       "17  2024-01-01 17:00:00  53.142473     52.741712        59.922753   46.678444   \n",
       "24  2024-01-02 00:00:00  44.556173     85.913148        39.609757   56.302583   \n",
       "66  2024-01-03 18:00:00  49.279899     40.579778        51.223657   92.549331   \n",
       "83  2024-01-04 11:00:00  44.817298     91.151220        54.076381   63.828135   \n",
       "209 2024-01-09 17:00:00  88.527315     86.243651        99.985828   79.512253   \n",
       "262 2024-01-11 22:00:00  17.587327     68.081340       124.715644   65.953856   \n",
       "291 2024-01-13 03:00:00  45.069991     97.394993       119.577161   50.121913   \n",
       "305 2024-01-13 17:00:00  51.173274     46.522980       162.198371   85.613710   \n",
       "374 2024-01-16 14:00:00  71.531825     82.067555       122.347976   58.173413   \n",
       "471 2024-01-20 15:00:00  26.980788     50.853256       147.277450   74.191215   \n",
       "478 2024-01-20 22:00:00  80.788808     46.687617        73.227884   86.535903   \n",
       "521 2024-01-22 17:00:00  55.433602     68.731466       159.705180   50.067292   \n",
       "531 2024-01-23 03:00:00  33.384799     33.473410        81.472377   93.577023   \n",
       "544 2024-01-23 16:00:00  25.283555     50.966819       148.534330   88.764965   \n",
       "562 2024-01-24 10:00:00  58.711247     23.636396        81.491507   53.100783   \n",
       "729 2024-01-31 09:00:00  42.216953     87.572755        90.293883   51.838561   \n",
       "750 2024-02-01 06:00:00  40.767668     19.451516       135.109514   69.140723   \n",
       "755 2024-02-01 11:00:00  76.323821     80.604878        90.966810   55.310769   \n",
       "880 2024-02-06 16:00:00  75.269324     74.472774        55.235375   78.017000   \n",
       "982 2024-02-10 22:00:00  40.330239     50.599242       114.649842  106.520567   \n",
       "\n",
       "     error_rate  anomaly  \n",
       "17            0       -1  \n",
       "24            0       -1  \n",
       "66            0       -1  \n",
       "83            0       -1  \n",
       "209           0       -1  \n",
       "262           1       -1  \n",
       "291           0       -1  \n",
       "305           0       -1  \n",
       "374           0       -1  \n",
       "471           0       -1  \n",
       "478           0       -1  \n",
       "521           1       -1  \n",
       "531           0       -1  \n",
       "544           0       -1  \n",
       "562           0       -1  \n",
       "729           0       -1  \n",
       "750           0       -1  \n",
       "755           0       -1  \n",
       "880           0       -1  \n",
       "982           0       -1  "
      ]
     },
     "execution_count": 161,
     "metadata": {},
     "output_type": "execute_result"
    }
   ],
   "source": [
    "df[df['anomaly']==-1]"
   ]
  },
  {
   "cell_type": "code",
   "execution_count": 162,
   "id": "66520dc6",
   "metadata": {},
   "outputs": [
    {
     "data": {
      "text/plain": [
       "<matplotlib.collections.PathCollection at 0x1baa7a7bb10>"
      ]
     },
     "execution_count": 162,
     "metadata": {},
     "output_type": "execute_result"
    },
    {
     "data": {
      "image/png": "[encoded data removed]",
      "text/plain": [
       "<Figure size 640x480 with 1 Axes>"
      ]
     },
     "metadata": {},
     "output_type": "display_data"
    }
   ],
   "source": [
    "from matplotlib import pyplot as plt\n",
    "\n",
    "plt.scatter(df[df[\"anomaly\"]==-1][\"cpu_usage\"], df[df[\"anomaly\"]==-1][\"disk_io\"])"
   ]
  },
  {
   "cell_type": "code",
   "execution_count": 164,
   "id": "d6efb438",
   "metadata": {},
   "outputs": [
    {
     "name": "stdout",
     "output_type": "stream",
     "text": [
      "              timestamp  anomaly                anomalous_columns\n",
      "17  2024-01-01 17:00:00       -1       [network_latency, disk_io]\n",
      "24  2024-01-02 00:00:00       -1                [network_latency]\n",
      "66  2024-01-03 18:00:00       -1                [network_latency]\n",
      "83  2024-01-04 11:00:00       -1  [memory_usage, network_latency]\n",
      "209 2024-01-09 17:00:00       -1                      [cpu_usage]\n",
      "262 2024-01-11 22:00:00       -1                      [cpu_usage]\n",
      "291 2024-01-13 03:00:00       -1          [memory_usage, disk_io]\n",
      "305 2024-01-13 17:00:00       -1                [network_latency]\n",
      "374 2024-01-16 14:00:00       -1                      [cpu_usage]\n",
      "471 2024-01-20 15:00:00       -1     [cpu_usage, network_latency]\n",
      "478 2024-01-20 22:00:00       -1                      [cpu_usage]\n",
      "521 2024-01-22 17:00:00       -1       [network_latency, disk_io]\n",
      "531 2024-01-23 03:00:00       -1                               []\n",
      "544 2024-01-23 16:00:00       -1     [cpu_usage, network_latency]\n",
      "562 2024-01-24 10:00:00       -1          [memory_usage, disk_io]\n",
      "729 2024-01-31 09:00:00       -1                        [disk_io]\n",
      "750 2024-02-01 06:00:00       -1                   [memory_usage]\n",
      "755 2024-02-01 11:00:00       -1                      [cpu_usage]\n",
      "880 2024-02-06 16:00:00       -1     [cpu_usage, network_latency]\n",
      "982 2024-02-10 22:00:00       -1                        [disk_io]\n"
     ]
    }
   ],
   "source": [
    "from scipy.stats import zscore\n",
    "\n",
    "# Calculate z-scores to identify anomalous values per column in anomalous rows\n",
    "z_scores = numeric_data.apply(zscore)\n",
    "\n",
    "# Function to identify anomalous columns for each row\n",
    "def find_anomalous_columns(row, threshold=2):\n",
    "    return [col for col in numeric_data.columns if abs(z_scores.loc[row.name, col]) > threshold]\n",
    "\n",
    "# Apply the function to each anomalous row\n",
    "df['anomalous_columns'] = df.apply(lambda row: find_anomalous_columns(row) if row['anomaly'] == -1 else [], axis=1)\n",
    "\n",
    "# Display rows with anomalies and their anomalous columns\n",
    "print(df[df['anomaly'] == -1][['timestamp', 'anomaly', 'anomalous_columns']])"
   ]
  }
 ],
 "metadata": {
  "kernelspec": {
   "display_name": "Python 3",
   "language": "python",
   "name": "python3"
  },
  "language_info": {
   "codemirror_mode": {
    "name": "ipython",
    "version": 3
   },
   "file_extension": ".py",
   "mimetype": "text/x-python",
   "name": "python",
   "nbconvert_exporter": "python",
   "pygments_lexer": "ipython3",
   "version": "3.13.7"
  }
 },
 "nbformat": 4,
 "nbformat_minor": 5
}
