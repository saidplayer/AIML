{
 "cells": [
  {
   "cell_type": "markdown",
   "id": "ab1c1728",
   "metadata": {},
   "source": [
    "### Implement logging in machine learning systems"
   ]
  },
  {
   "cell_type": "code",
   "execution_count": 2,
   "id": "34d3f18c",
   "metadata": {},
   "outputs": [],
   "source": [
    "import logging\n",
    "\n",
    "# Set up logging to a file\n",
    "logging.basicConfig(filename='ml_pipeline.log', level=logging.INFO)\n",
    "\n",
    "# Example log message\n",
    "logging.info(\"Logging setup complete.\")"
   ]
  },
  {
   "cell_type": "code",
   "execution_count": 21,
   "id": "10c34f61",
   "metadata": {},
   "outputs": [],
   "source": [
    "import pandas as pd\n",
    "import numpy\n",
    "\n",
    "# Log the start of data loading\n",
    "logging.info(\"Loading dataset...\")\n",
    "\n",
    "# Load the dataset\n",
    "# df = pd.read_csv('your-dataset.csv')\n",
    "df = pd.DataFrame(numpy.random.randint(1,100,100))\n",
    "logging.info(\"Dataset loaded successfully.\")\n",
    "\n",
    "# Log the start of preprocessing\n",
    "logging.info(\"Starting data preprocessing...\")\n",
    "\n",
    "# Example preprocessing: handling missing values\n",
    "df.fillna(0, inplace=True)\n",
    "logging.info(\"Missing values filled with 0.\")\n",
    "\n",
    "# Log the completion of preprocessing\n",
    "logging.info(\"Data preprocessing completed.\")"
   ]
  },
  {
   "cell_type": "code",
   "execution_count": 22,
   "id": "a58cf718",
   "metadata": {},
   "outputs": [],
   "source": [
    "logging.error(\"Example error logged\")"
   ]
  },
  {
   "cell_type": "markdown",
   "id": "5c2893b7",
   "metadata": {},
   "source": [
    "### AzureML deployement example"
   ]
  },
  {
   "cell_type": "code",
   "execution_count": 87,
   "id": "3460ef6f",
   "metadata": {},
   "outputs": [
    {
     "data": {
      "text/plain": [
       "'1.60.0'"
      ]
     },
     "execution_count": 87,
     "metadata": {},
     "output_type": "execute_result"
    }
   ],
   "source": [
    "import azureml.core as core\n",
    "core.VERSION"
   ]
  },
  {
   "cell_type": "code",
   "execution_count": null,
   "id": "4a29a54e",
   "metadata": {},
   "outputs": [],
   "source": [
    "from azureml.core import Workspace\n",
    "\n",
    "ws = Workspace.from_config()\n",
    "print(ws.name, ws.resource_group, ws.location, ws.subscription_id, sep=\"\\n\")"
   ]
  },
  {
   "cell_type": "code",
   "execution_count": 70,
   "id": "e377198c",
   "metadata": {},
   "outputs": [],
   "source": [
    "import dill\n",
    "from sklearn.datasets import load_diabetes\n",
    "from sklearn.linear_model import Ridge\n",
    "\n",
    "diab_x , diab_y = load_diabetes(return_X_y=True)\n",
    "\n",
    "model = Ridge()\n",
    "model.fit(diab_x, diab_y)\n",
    "\n",
    "dill.dump(model, open(\"mymodel.pkl\", \"wb\"))"
   ]
  },
  {
   "cell_type": "code",
   "execution_count": 72,
   "id": "f2aae3ff",
   "metadata": {},
   "outputs": [],
   "source": [
    "import numpy as np\n",
    "\n",
    "np.savetxt(\"diab_x.csv\", x, delimiter=\",\")\n",
    "np.savetxt(\"diab_y.csv\", y, delimiter=\",\")"
   ]
  },
  {
   "cell_type": "code",
   "execution_count": null,
   "id": "d96d13f7",
   "metadata": {},
   "outputs": [],
   "source": [
    "from azureml.core import Dataset\n",
    "\n",
    "datastore = ws.get_default_datastore()\n",
    "datastore.upload_files(files=[\"./diab_x.csb\", \"./diab_y.csv\"],\n",
    "                       target_path=\"./diab_regression\", overwrite=True)\n",
    "data_x = Dataset.Tabular.from_delimited_files(path = [(datastore, \"diab_regression/diab_x.csv\")])\n",
    "data_y = Dataset.Tabular.from_delimited_files(path = [(datastore, \"diab_regression/diab_y.csv\")])\n"
   ]
  },
  {
   "cell_type": "code",
   "execution_count": null,
   "id": "e859d410",
   "metadata": {},
   "outputs": [],
   "source": [
    "import sklearn\n",
    "from azureml.core import Model\n",
    "from azureml.core.resource_configuration import ResourceConfiguration\n",
    "\n",
    "cloud_model = Model.register(workspace=ws,\n",
    "                             model_name=\"MyCloudModel\",\n",
    "                             model_path=\"./mymodel.pkl\",\n",
    "                             model_framework=Model.Framework.SCIKITLEARN,\n",
    "                             model_framework_version=sklearn.__version__,\n",
    "                             sample_input_dataset=diab_x,\n",
    "                             sample_output_dataset=diab_y,\n",
    "                             resource_configuration=ResourceConfiguration(cpu=1, memory_in_gb=0.5),\n",
    "                             description=\"Ridge predictor model of diabetes\",\n",
    "                             tags={\"area\":\"diabetes\", \"type\":\"Ridge Regression\"}\n",
    "                             )\n",
    "print(\"Name: \", cloud_model.name)\n",
    "print(\"Version: \", cloud_model.version)\n"
   ]
  },
  {
   "cell_type": "code",
   "execution_count": 82,
   "id": "4a1ce3ad",
   "metadata": {},
   "outputs": [],
   "source": [
    "from azureml.core import Environment\n",
    "from azureml.core.conda_dependencies import CondaDependencies\n",
    "\n",
    "env = Environment(\"my-diab-env\")\n",
    "env.python.conda_dependencies = CondaDependencies.create(conda_packages=[\n",
    "    \"pip==20.2.4\"],\n",
    "    pip_packages=[\n",
    "        \"azureml-defaults\",\n",
    "        \"inferences-schema[numpy-support]\",\n",
    "        \"joblib\",\n",
    "        \"dill==0.3.6\",\n",
    "        \"numpy==1.23\",\n",
    "        f\"scikit-learn=={sklearn.__version__}\"\n",
    "])"
   ]
  },
  {
   "cell_type": "code",
   "execution_count": null,
   "id": "a2c06a4f",
   "metadata": {},
   "outputs": [],
   "source": [
    "from azureml.core.model import InferenceConfig\n",
    "from azureml.core.webservice import AciWebservice\n",
    "\n",
    "service_name = \"my-custom-env-service\"\n",
    "inference_config = InferenceConfig(entry_script=\"model.py\", environment=env)\n",
    "aci_config = AciWebservice.deploy_configuration(cpu_cores=1, memory_gb=0.5)\n",
    "service = Model.deploy(workspace=ws,\n",
    "                       name=service_name,\n",
    "                       models=[cloud_model],\n",
    "                       inference_config=inference_config,\n",
    "                       deployment_config=aci_config,\n",
    "                       overwrite=True)\n",
    "service.wait_for_deployment(show_output=True)"
   ]
  }
 ],
 "metadata": {
  "kernelspec": {
   "display_name": "Python 3",
   "language": "python",
   "name": "python3"
  },
  "language_info": {
   "codemirror_mode": {
    "name": "ipython",
    "version": 3
   },
   "file_extension": ".py",
   "mimetype": "text/x-python",
   "name": "python",
   "nbconvert_exporter": "python",
   "pygments_lexer": "ipython3",
   "version": "3.13.5"
  }
 },
 "nbformat": 4,
 "nbformat_minor": 5
}
