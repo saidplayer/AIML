{
 "cells": [
  {
   "cell_type": "code",
   "execution_count": 2,
   "id": "f364d8c6",
   "metadata": {},
   "outputs": [],
   "source": [
    "import torch, os\n",
    "from PIL import Image\n",
    "import pandas as pd\n",
    "import numpy as np\n",
    "\n",
    "class my_dataset(torch.utils.data.Dataset):\n",
    "    def __init__(self, csv_file):\n",
    "        self.index_file = pd.read_csv(csv_file)\n",
    "    def __getitem__(self, index):\n",
    "        if index>100: index = 100\n",
    "        path = self.index_file.iloc[index, 1]\n",
    "        image = np.array(Image.open(path))\n",
    "        i = self.index_file.iloc[index, 0]\n",
    "        return image, i\n",
    "    def __len__(self,):\n",
    "        return self.index_file.shape[0]\n",
    "    "
   ]
  },
  {
   "cell_type": "code",
   "execution_count": null,
   "id": "84a4bfaa",
   "metadata": {},
   "outputs": [],
   "source": [
    "data = my_dataset(\"index.csv\")\n",
    "myloader = torch.utils.data.DataLoader(data, batch_size = 10)\n",
    "\n",
    "for x, y in myloader:\n",
    "    print(len(x), len(y))\n",
    "    print(x[0].shape)"
   ]
  }
 ],
 "metadata": {
  "kernelspec": {
   "display_name": "Python 3",
   "language": "python",
   "name": "python3"
  },
  "language_info": {
   "codemirror_mode": {
    "name": "ipython",
    "version": 3
   },
   "file_extension": ".py",
   "mimetype": "text/x-python",
   "name": "python",
   "nbconvert_exporter": "python",
   "pygments_lexer": "ipython3",
   "version": "3.13.3"
  }
 },
 "nbformat": 4,
 "nbformat_minor": 5
}
