{
 "cells": [
  {
   "cell_type": "markdown",
   "id": "8b68d540",
   "metadata": {},
   "source": [
    "## Implementing neural networks in Azure"
   ]
  },
  {
   "cell_type": "code",
   "execution_count": null,
   "id": "23552ac5",
   "metadata": {},
   "outputs": [],
   "source": [
    "from azureml.core import Workspace\n",
    "\n",
    "# Create or retrieve an existing Azure ML workspace\n",
    "#ws = Workspace.get(name='myworkspace',\n",
    "                    #   subscription_id='your-subscription-id',\n",
    "                    #   resource_group='myresourcegroup',\n",
    "                    #   location='eastus')\n",
    "\n",
    "ws = Workspace.create(name='myworkspace',\n",
    "                      subscription_id='your-subscription-id',\n",
    "                      resource_group='myresourcegroup',\n",
    "                      location='eastus')\n",
    "\n",
    "# Write configuration to the workspace config file\n",
    "ws.write_config(path='.azureml')"
   ]
  },
  {
   "cell_type": "code",
   "execution_count": 2,
   "id": "3cc0d066",
   "metadata": {},
   "outputs": [],
   "source": [
    "import torch\n",
    "import torch.nn as nn\n",
    "import torch.optim as optim\n",
    "\n",
    "# Define a simple neural network with one hidden layer\n",
    "class SimpleNN(nn.Module):\n",
    "    def __init__(self):\n",
    "        super(SimpleNN, self).__init__()\n",
    "        self.fc1 = nn.Linear(784, 128)  # Input layer (784 input features)\n",
    "        self.fc2 = nn.Linear(128, 10)   # Output layer (10 classes)\n",
    "        self.relu = nn.ReLU()           # Activation function\n",
    "\n",
    "    def forward(self, x):\n",
    "        x = self.relu(self.fc1(x))  # Apply ReLU after the first layer\n",
    "        x = self.fc2(x)             # Output layer\n",
    "        return x\n",
    "\n",
    "# Initialize the neural network\n",
    "model = SimpleNN()\n",
    "\n",
    "# Define loss function and optimizer\n",
    "criterion = nn.CrossEntropyLoss()  # For classification tasks\n",
    "optimizer = optim.SGD(model.parameters(), lr=0.01)  # Stochastic Gradient Descent"
   ]
  },
  {
   "cell_type": "code",
   "execution_count": 3,
   "id": "8980f7b2",
   "metadata": {},
   "outputs": [],
   "source": [
    "import torch\n",
    "import torch.nn as nn\n",
    "import torch.optim as optim\n",
    "\n",
    "# Define a simple neural network with one hidden layer\n",
    "class SimpleNN(nn.Module):\n",
    "    def __init__(self):\n",
    "        super(SimpleNN, self).__init__()\n",
    "        self.fc1 = nn.Linear(784, 128)  # Input layer (784 input features)\n",
    "        self.fc2 = nn.Linear(128, 10)   # Output layer (10 classes)\n",
    "        self.relu = nn.ReLU()           # Activation function\n",
    "\n",
    "    def forward(self, x):\n",
    "        x = self.relu(self.fc1(x))  # Apply ReLU after the first layer\n",
    "        x = self.fc2(x)             # Output layer\n",
    "        return x\n",
    "\n",
    "# Initialize the neural network\n",
    "model = SimpleNN()\n",
    "\n",
    "# Define loss function and optimizer\n",
    "criterion = nn.CrossEntropyLoss()  # For classification tasks\n",
    "optimizer = optim.SGD(model.parameters(), lr=0.01)  # Stochastic Gradient Descent"
   ]
  },
  {
   "cell_type": "code",
   "execution_count": 4,
   "id": "b59a2aea",
   "metadata": {},
   "outputs": [
    {
     "name": "stdout",
     "output_type": "stream",
     "text": [
      "Epoch 1, Loss: 0.8727505727688472\n",
      "Epoch 2, Loss: 0.3748171493331591\n",
      "Epoch 3, Loss: 0.3200352529386679\n",
      "Epoch 4, Loss: 0.28969641706546145\n",
      "Epoch 5, Loss: 0.2668896641393503\n"
     ]
    }
   ],
   "source": [
    "from torchvision import datasets, transforms\n",
    "\n",
    "# Load MNIST dataset\n",
    "train_loader = torch.utils.data.DataLoader(\n",
    "    datasets.MNIST(root='data', train=True, download=True,\n",
    "                   transform=transforms.ToTensor()),\n",
    "    batch_size=32, shuffle=True)\n",
    "\n",
    "# Train the model\n",
    "num_epochs = 5\n",
    "for epoch in range(num_epochs):\n",
    "    running_loss = 0.0\n",
    "    for inputs, labels in train_loader:\n",
    "        optimizer.zero_grad()  # Reset gradients\n",
    "\n",
    "        # Forward pass\n",
    "        outputs = model(inputs.view(-1, 784))  # Flatten input\n",
    "        loss = criterion(outputs, labels)      # Compute loss\n",
    "\n",
    "        # Backward pass and optimization\n",
    "        loss.backward()\n",
    "        optimizer.step()\n",
    "\n",
    "        running_loss += loss.item()\n",
    "\n",
    "    print(f\"Epoch {epoch+1}, Loss: {running_loss/len(train_loader)}\")"
   ]
  },
  {
   "cell_type": "code",
   "execution_count": 5,
   "id": "ec26e80a",
   "metadata": {},
   "outputs": [],
   "source": [
    "from azureml.core import Model\n",
    "\n",
    "# Save the trained model\n",
    "torch.save(model.state_dict(), 'simple_nn.pth')\n"
   ]
  },
  {
   "cell_type": "markdown",
   "id": "53e3440d",
   "metadata": {},
   "source": [
    "## Comparing neural network implementation techniques using Python"
   ]
  },
  {
   "cell_type": "markdown",
   "id": "1fa12b12",
   "metadata": {},
   "source": []
  }
 ],
 "metadata": {
  "kernelspec": {
   "display_name": "Python 3",
   "language": "python",
   "name": "python3"
  },
  "language_info": {
   "codemirror_mode": {
    "name": "ipython",
    "version": 3
   },
   "file_extension": ".py",
   "mimetype": "text/x-python",
   "name": "python",
   "nbconvert_exporter": "python",
   "pygments_lexer": "ipython3",
   "version": "3.13.5"
  }
 },
 "nbformat": 4,
 "nbformat_minor": 5
}
